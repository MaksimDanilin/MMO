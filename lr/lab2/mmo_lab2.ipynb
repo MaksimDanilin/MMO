{
  "cells": [
    {
      "cell_type": "markdown",
      "source": [
        "# Лабораторная работа №2 по курсу \"Методы машинного обучения\"\n",
        "\n",
        "# **ИУ5-21М Данилин М.С.**"
      ],
      "metadata": {
        "id": "2bwPIHVm8gKD"
      }
    },
    {
      "cell_type": "markdown",
      "metadata": {
        "id": "CTg2hMh-8Xj7"
      },
      "source": [
        "- **Цель лабораторной работы**: изучение продвинутых способов предварительной обработки данных для дальнейшего формирования моделей."
      ]
    },
    {
      "cell_type": "markdown",
      "metadata": {
        "id": "ZNGsamOE8Xj7"
      },
      "source": [
        "# Задание"
      ]
    },
    {
      "cell_type": "markdown",
      "metadata": {
        "id": "57t3fAj08Xj8"
      },
      "source": [
        "- Выбрать набор данных (датасет), содержащий категориальные и числовые признаки и пропуски в данных. Для выполнения следующих пунктов можно использовать несколько различных наборов данных (один для обработки пропусков, другой для категориальных признаков и т.д.) Просьба не использовать датасет, на котором данная задача решалась в лекции.\n",
        "- Для выбранного датасета (датасетов) на основе материалов лекций решить следующие задачи:\n",
        "    - устранение пропусков в данных;\n",
        "    - кодирование категориальных признаков;\n",
        "    - нормализация числовых признаков."
      ]
    },
    {
      "cell_type": "markdown",
      "metadata": {
        "id": "yzHjZN9s8Xj8"
      },
      "source": [
        "# Подключение библиотек"
      ]
    },
    {
      "cell_type": "code",
      "execution_count": null,
      "metadata": {
        "id": "0iMAUdIf8Xj8"
      },
      "outputs": [],
      "source": [
        "import pandas as pd\n",
        "import matplotlib.pyplot as plt\n",
        "import seaborn as sns"
      ]
    },
    {
      "cell_type": "markdown",
      "metadata": {
        "id": "uPmzuSiB8Xj9"
      },
      "source": [
        "# Ход работы"
      ]
    },
    {
      "cell_type": "markdown",
      "metadata": {
        "id": "xgDT3A2x8Xj9"
      },
      "source": [
        "## Выбор и описание датасета"
      ]
    },
    {
      "cell_type": "markdown",
      "metadata": {
        "id": "8E2C5Ujm8Xj9"
      },
      "source": [
        "- Этот набор данных предоставляет полную информацию о поведении клиентов для типичной страницы туризма в социальных сетях. Датасет содержит в себе следующие поля:\n",
        "    - UserID (PK) - удаляем\n",
        "    - Taken_product - купил тур (да/нет)\n",
        "    - Yearly_avg_view_on_travel_page - Среднегодовое количество просмотров пользователем любой страницы, связанной с путешествиями\n",
        "    - preferred_device - Предпочтительное устройство для входа пользователя в систему\n",
        "    - total_likes_on_outstation_checkin_given - Общее количество лайков, поставленных пользователем при регистрации вне станции за последний год\n",
        "    - yearly_avg_Outstation_checkins - Среднее количество регистраций за пределами станции, выполненных пользователем\n",
        "    - member_in_family - Общее количество членов семьи, упомянутых пользователем в учетной записи\n",
        "    - preferred_location_type - Предпочтительный тип местоположения для перемещения пользователя\n",
        "    - Yearly_avg_comment_on_travel_page - Среднегодовые комментарии пользователя на любой странице, связанной с путешествиями\n",
        "    - total_likes_on_outofstation_checkin_received - Общее количество лайков, полученных пользователем при выезде за пределы станции за последний год\n",
        "    - week_since_last_outstation_checkin - Количество недель с момента последнего обновления пользователем регистрации вне станции\n",
        "    - following_company_page - Читает ли клиент страницу компании (Да или Нет)\n",
        "    - montly_avg_comment_on_company_page - Среднее количество комментариев пользователя на странице компании в месяц\n",
        "    - working_flag - работает или нет\n",
        "    - travelling_network_rating - Рейтинг, указывающий, есть ли у пользователя близкие друзья, которые также любят путешествовать. 1 — высокий, 4 — самый низкий\n",
        "    - Adult_flag - взрослый или нет\n",
        "    - Daily_Avg_mins_spend_on_traveling_page - Среднее время, проведенное пользователем на странице путешествия компании"
      ]
    },
    {
      "cell_type": "code",
      "execution_count": null,
      "metadata": {
        "id": "Mh64VGP88Xj-",
        "outputId": "31bba86f-6924-4b8f-cba2-36ebc26aad37"
      },
      "outputs": [
        {
          "data": {
            "text/html": [
              "<div>\n",
              "<style scoped>\n",
              "    .dataframe tbody tr th:only-of-type {\n",
              "        vertical-align: middle;\n",
              "    }\n",
              "\n",
              "    .dataframe tbody tr th {\n",
              "        vertical-align: top;\n",
              "    }\n",
              "\n",
              "    .dataframe thead th {\n",
              "        text-align: right;\n",
              "    }\n",
              "</style>\n",
              "<table border=\"1\" class=\"dataframe\">\n",
              "  <thead>\n",
              "    <tr style=\"text-align: right;\">\n",
              "      <th></th>\n",
              "      <th>Taken_product</th>\n",
              "      <th>Yearly_avg_view_on_travel_page</th>\n",
              "      <th>preferred_device</th>\n",
              "      <th>total_likes_on_outstation_checkin_given</th>\n",
              "      <th>yearly_avg_Outstation_checkins</th>\n",
              "      <th>member_in_family</th>\n",
              "      <th>preferred_location_type</th>\n",
              "      <th>Yearly_avg_comment_on_travel_page</th>\n",
              "      <th>total_likes_on_outofstation_checkin_received</th>\n",
              "      <th>week_since_last_outstation_checkin</th>\n",
              "      <th>following_company_page</th>\n",
              "      <th>montly_avg_comment_on_company_page</th>\n",
              "      <th>working_flag</th>\n",
              "      <th>travelling_network_rating</th>\n",
              "      <th>Adult_flag</th>\n",
              "      <th>Daily_Avg_mins_spend_on_traveling_page</th>\n",
              "    </tr>\n",
              "  </thead>\n",
              "  <tbody>\n",
              "    <tr>\n",
              "      <th>0</th>\n",
              "      <td>Yes</td>\n",
              "      <td>307.0</td>\n",
              "      <td>iOS and Android</td>\n",
              "      <td>38570.0</td>\n",
              "      <td>1</td>\n",
              "      <td>2</td>\n",
              "      <td>Financial</td>\n",
              "      <td>94.0</td>\n",
              "      <td>5993</td>\n",
              "      <td>8</td>\n",
              "      <td>Yes</td>\n",
              "      <td>11</td>\n",
              "      <td>No</td>\n",
              "      <td>1</td>\n",
              "      <td>0.0</td>\n",
              "      <td>8.0</td>\n",
              "    </tr>\n",
              "    <tr>\n",
              "      <th>1</th>\n",
              "      <td>No</td>\n",
              "      <td>367.0</td>\n",
              "      <td>iOS</td>\n",
              "      <td>9765.0</td>\n",
              "      <td>1</td>\n",
              "      <td>1</td>\n",
              "      <td>Financial</td>\n",
              "      <td>61.0</td>\n",
              "      <td>5130</td>\n",
              "      <td>1</td>\n",
              "      <td>No</td>\n",
              "      <td>23</td>\n",
              "      <td>Yes</td>\n",
              "      <td>4</td>\n",
              "      <td>1.0</td>\n",
              "      <td>10.0</td>\n",
              "    </tr>\n",
              "    <tr>\n",
              "      <th>2</th>\n",
              "      <td>Yes</td>\n",
              "      <td>277.0</td>\n",
              "      <td>iOS and Android</td>\n",
              "      <td>48055.0</td>\n",
              "      <td>1</td>\n",
              "      <td>2</td>\n",
              "      <td>Other</td>\n",
              "      <td>92.0</td>\n",
              "      <td>2090</td>\n",
              "      <td>6</td>\n",
              "      <td>Yes</td>\n",
              "      <td>15</td>\n",
              "      <td>No</td>\n",
              "      <td>2</td>\n",
              "      <td>0.0</td>\n",
              "      <td>7.0</td>\n",
              "    </tr>\n",
              "    <tr>\n",
              "      <th>3</th>\n",
              "      <td>No</td>\n",
              "      <td>247.0</td>\n",
              "      <td>iOS</td>\n",
              "      <td>48720.0</td>\n",
              "      <td>1</td>\n",
              "      <td>4</td>\n",
              "      <td>Financial</td>\n",
              "      <td>56.0</td>\n",
              "      <td>2909</td>\n",
              "      <td>1</td>\n",
              "      <td>Yes</td>\n",
              "      <td>11</td>\n",
              "      <td>No</td>\n",
              "      <td>3</td>\n",
              "      <td>0.0</td>\n",
              "      <td>8.0</td>\n",
              "    </tr>\n",
              "    <tr>\n",
              "      <th>4</th>\n",
              "      <td>No</td>\n",
              "      <td>202.0</td>\n",
              "      <td>iOS and Android</td>\n",
              "      <td>20685.0</td>\n",
              "      <td>1</td>\n",
              "      <td>1</td>\n",
              "      <td>Medical</td>\n",
              "      <td>40.0</td>\n",
              "      <td>3468</td>\n",
              "      <td>9</td>\n",
              "      <td>No</td>\n",
              "      <td>12</td>\n",
              "      <td>No</td>\n",
              "      <td>4</td>\n",
              "      <td>1.0</td>\n",
              "      <td>6.0</td>\n",
              "    </tr>\n",
              "  </tbody>\n",
              "</table>\n",
              "</div>"
            ],
            "text/plain": [
              "  Taken_product  Yearly_avg_view_on_travel_page preferred_device  \\\n",
              "0           Yes                           307.0  iOS and Android   \n",
              "1            No                           367.0              iOS   \n",
              "2           Yes                           277.0  iOS and Android   \n",
              "3            No                           247.0              iOS   \n",
              "4            No                           202.0  iOS and Android   \n",
              "\n",
              "   total_likes_on_outstation_checkin_given yearly_avg_Outstation_checkins  \\\n",
              "0                                  38570.0                              1   \n",
              "1                                   9765.0                              1   \n",
              "2                                  48055.0                              1   \n",
              "3                                  48720.0                              1   \n",
              "4                                  20685.0                              1   \n",
              "\n",
              "  member_in_family preferred_location_type  Yearly_avg_comment_on_travel_page  \\\n",
              "0                2               Financial                               94.0   \n",
              "1                1               Financial                               61.0   \n",
              "2                2                   Other                               92.0   \n",
              "3                4               Financial                               56.0   \n",
              "4                1                 Medical                               40.0   \n",
              "\n",
              "   total_likes_on_outofstation_checkin_received  \\\n",
              "0                                          5993   \n",
              "1                                          5130   \n",
              "2                                          2090   \n",
              "3                                          2909   \n",
              "4                                          3468   \n",
              "\n",
              "   week_since_last_outstation_checkin following_company_page  \\\n",
              "0                                   8                    Yes   \n",
              "1                                   1                     No   \n",
              "2                                   6                    Yes   \n",
              "3                                   1                    Yes   \n",
              "4                                   9                     No   \n",
              "\n",
              "   montly_avg_comment_on_company_page working_flag  travelling_network_rating  \\\n",
              "0                                  11           No                          1   \n",
              "1                                  23          Yes                          4   \n",
              "2                                  15           No                          2   \n",
              "3                                  11           No                          3   \n",
              "4                                  12           No                          4   \n",
              "\n",
              "   Adult_flag  Daily_Avg_mins_spend_on_traveling_page  \n",
              "0         0.0                                     8.0  \n",
              "1         1.0                                    10.0  \n",
              "2         0.0                                     7.0  \n",
              "3         0.0                                     8.0  \n",
              "4         1.0                                     6.0  "
            ]
          },
          "execution_count": 3,
          "metadata": {},
          "output_type": "execute_result"
        }
      ],
      "source": [
        "# Импорт датасета\n",
        "df = pd.read_csv('datasets/cust_beh.csv')\n",
        "\n",
        "# Вывод первых 5 строк\n",
        "df.head(5)"
      ]
    },
    {
      "cell_type": "code",
      "execution_count": null,
      "metadata": {
        "id": "5VUNB-_a8Xj-",
        "outputId": "051ba877-d932-43ac-b707-ced0544269d6"
      },
      "outputs": [
        {
          "data": {
            "text/html": [
              "<div>\n",
              "<style scoped>\n",
              "    .dataframe tbody tr th:only-of-type {\n",
              "        vertical-align: middle;\n",
              "    }\n",
              "\n",
              "    .dataframe tbody tr th {\n",
              "        vertical-align: top;\n",
              "    }\n",
              "\n",
              "    .dataframe thead th {\n",
              "        text-align: right;\n",
              "    }\n",
              "</style>\n",
              "<table border=\"1\" class=\"dataframe\">\n",
              "  <thead>\n",
              "    <tr style=\"text-align: right;\">\n",
              "      <th></th>\n",
              "      <th>Taken_product</th>\n",
              "      <th>preferred_device</th>\n",
              "      <th>Yearly_avg_view_on_travel_page</th>\n",
              "      <th>Yearly_avg_comment_on_travel_page</th>\n",
              "      <th>travelling_network_rating</th>\n",
              "    </tr>\n",
              "  </thead>\n",
              "  <tbody>\n",
              "    <tr>\n",
              "      <th>0</th>\n",
              "      <td>Yes</td>\n",
              "      <td>iOS and Android</td>\n",
              "      <td>307.0</td>\n",
              "      <td>94.0</td>\n",
              "      <td>1</td>\n",
              "    </tr>\n",
              "    <tr>\n",
              "      <th>1</th>\n",
              "      <td>No</td>\n",
              "      <td>iOS</td>\n",
              "      <td>367.0</td>\n",
              "      <td>61.0</td>\n",
              "      <td>4</td>\n",
              "    </tr>\n",
              "    <tr>\n",
              "      <th>2</th>\n",
              "      <td>Yes</td>\n",
              "      <td>iOS and Android</td>\n",
              "      <td>277.0</td>\n",
              "      <td>92.0</td>\n",
              "      <td>2</td>\n",
              "    </tr>\n",
              "    <tr>\n",
              "      <th>3</th>\n",
              "      <td>No</td>\n",
              "      <td>iOS</td>\n",
              "      <td>247.0</td>\n",
              "      <td>56.0</td>\n",
              "      <td>3</td>\n",
              "    </tr>\n",
              "    <tr>\n",
              "      <th>4</th>\n",
              "      <td>No</td>\n",
              "      <td>iOS and Android</td>\n",
              "      <td>202.0</td>\n",
              "      <td>40.0</td>\n",
              "      <td>4</td>\n",
              "    </tr>\n",
              "  </tbody>\n",
              "</table>\n",
              "</div>"
            ],
            "text/plain": [
              "  Taken_product preferred_device  Yearly_avg_view_on_travel_page  \\\n",
              "0           Yes  iOS and Android                           307.0   \n",
              "1            No              iOS                           367.0   \n",
              "2           Yes  iOS and Android                           277.0   \n",
              "3            No              iOS                           247.0   \n",
              "4            No  iOS and Android                           202.0   \n",
              "\n",
              "   Yearly_avg_comment_on_travel_page  travelling_network_rating  \n",
              "0                               94.0                          1  \n",
              "1                               61.0                          4  \n",
              "2                               92.0                          2  \n",
              "3                               56.0                          3  \n",
              "4                               40.0                          4  "
            ]
          },
          "execution_count": 5,
          "metadata": {},
          "output_type": "execute_result"
        }
      ],
      "source": [
        "# Используем только некоторые признаки\n",
        "cols_filter = ['Taken_product', 'preferred_device', 'Yearly_avg_view_on_travel_page', 'Yearly_avg_comment_on_travel_page',\n",
        "        'travelling_network_rating']\n",
        "data = df[cols_filter]\n",
        "data.head()"
      ]
    },
    {
      "cell_type": "markdown",
      "metadata": {
        "id": "AncMZsQS8Xj_"
      },
      "source": [
        "## Устранение пропусков в данных"
      ]
    },
    {
      "cell_type": "markdown",
      "metadata": {
        "id": "aXy4lrgc8Xj_"
      },
      "source": []
    },
    {
      "cell_type": "code",
      "execution_count": null,
      "metadata": {
        "id": "oiKh7POW8Xj_",
        "outputId": "109c4f2e-9f6e-468c-d31f-bfa073ebc5cf"
      },
      "outputs": [
        {
          "data": {
            "text/plain": [
              "[('Taken_product', dtype('O')),\n",
              " ('preferred_device', dtype('O')),\n",
              " ('Yearly_avg_view_on_travel_page', dtype('float64')),\n",
              " ('Yearly_avg_comment_on_travel_page', dtype('float64')),\n",
              " ('travelling_network_rating', dtype('int64'))]"
            ]
          },
          "execution_count": 12,
          "metadata": {},
          "output_type": "execute_result"
        }
      ],
      "source": [
        "hdata = data\n",
        "list(zip(hdata.columns, [i for i in data.dtypes]))"
      ]
    },
    {
      "cell_type": "code",
      "execution_count": null,
      "metadata": {
        "id": "jn0McnzE8Xj_",
        "outputId": "672c7759-1746-432a-ae88-8c60be553fc3"
      },
      "outputs": [
        {
          "data": {
            "text/plain": [
              "['preferred_device',\n",
              " 'Yearly_avg_view_on_travel_page',\n",
              " 'Yearly_avg_comment_on_travel_page']"
            ]
          },
          "execution_count": 13,
          "metadata": {},
          "output_type": "execute_result"
        }
      ],
      "source": [
        "# Колонки с пропусками\n",
        "hcols_with_na = [c for c in hdata.columns if hdata[c].isnull().sum() > 0]\n",
        "hcols_with_na"
      ]
    },
    {
      "cell_type": "code",
      "execution_count": null,
      "metadata": {
        "id": "lVYUlZYM8XkA",
        "outputId": "49c58c9d-4238-469e-ffaa-f97f7eec9d34"
      },
      "outputs": [
        {
          "data": {
            "text/plain": [
              "(11770, 5)"
            ]
          },
          "execution_count": 14,
          "metadata": {},
          "output_type": "execute_result"
        }
      ],
      "source": [
        "hdata.shape"
      ]
    },
    {
      "cell_type": "code",
      "execution_count": null,
      "metadata": {
        "id": "r5-Ek2-58XkA",
        "outputId": "a8a41eae-9a01-4337-e3eb-d52f8a5ec7e9"
      },
      "outputs": [
        {
          "data": {
            "text/plain": [
              "[('preferred_device', 53),\n",
              " ('Yearly_avg_view_on_travel_page', 581),\n",
              " ('Yearly_avg_comment_on_travel_page', 206)]"
            ]
          },
          "execution_count": 15,
          "metadata": {},
          "output_type": "execute_result"
        }
      ],
      "source": [
        "[(c, hdata[c].isnull().sum()) for c in hcols_with_na]"
      ]
    },
    {
      "cell_type": "code",
      "execution_count": null,
      "metadata": {
        "id": "9fbzHy0p8XkA",
        "outputId": "81f23bd7-56e9-4a37-849d-aea6f8f8f58d"
      },
      "outputs": [
        {
          "data": {
            "text/plain": [
              "[('preferred_device', 0.004502973661852166),\n",
              " ('Yearly_avg_view_on_travel_page', 0.04936278674596432),\n",
              " ('Yearly_avg_comment_on_travel_page', 0.01750212404418012)]"
            ]
          },
          "execution_count": 16,
          "metadata": {},
          "output_type": "execute_result"
        }
      ],
      "source": [
        "# Доля (процент) пропусков\n",
        "[(c, hdata[c].isnull().mean()) for c in hcols_with_na]"
      ]
    },
    {
      "cell_type": "code",
      "execution_count": null,
      "metadata": {
        "id": "Nm3OsmfC8XkB"
      },
      "outputs": [],
      "source": [
        "# Колонки для которых удаляются пропуски\n",
        "hcols_with_na_temp = ['preferred_device', 'Yearly_avg_view_on_travel_page', 'Yearly_avg_comment_on_travel_page']"
      ]
    },
    {
      "cell_type": "code",
      "execution_count": null,
      "metadata": {
        "id": "v2FjRxvX8XkB",
        "outputId": "cc978184-a544-4a7f-c3d4-e17958b83ff3"
      },
      "outputs": [
        {
          "data": {
            "text/plain": [
              "(10956, 3)"
            ]
          },
          "execution_count": 19,
          "metadata": {},
          "output_type": "execute_result"
        }
      ],
      "source": [
        "# Удаление пропусков\n",
        "hdata_drop = hdata[hcols_with_na_temp].dropna()\n",
        "hdata_drop.shape"
      ]
    },
    {
      "cell_type": "code",
      "execution_count": null,
      "metadata": {
        "id": "DCmQ481m8XkC"
      },
      "outputs": [],
      "source": [
        "def plot_hist_diff(old_ds, new_ds, cols):\n",
        "    \"\"\"\n",
        "    Разница между распределениями до и после устранения пропусков\n",
        "    \"\"\"\n",
        "    for c in cols:\n",
        "        fig = plt.figure(figsize=(18, 8))\n",
        "        ax = fig.add_subplot(111)\n",
        "        ax.title.set_text('Поле - ' + str(c))\n",
        "        old_ds[c].hist(bins=50, ax=ax, density=True, color='green')\n",
        "        new_ds[c].hist(bins=50, ax=ax, color='blue', density=True, alpha=0.5)\n",
        "        plt.show()"
      ]
    },
    {
      "cell_type": "code",
      "execution_count": null,
      "metadata": {
        "id": "31GJXz2T8XkC",
        "outputId": "5572cd30-c3a9-4e63-a314-8c7549885e20"
      },
      "outputs": [
        {
          "data": {
            "image/png": "[encoded data removed]",
            "text/plain": [
              "<Figure size 1800x800 with 1 Axes>"
            ]
          },
          "metadata": {},
          "output_type": "display_data"
        },
        {
          "data": {
            "image/png": "[encoded data removed]",
            "text/plain": [
              "<Figure size 1800x800 with 1 Axes>"
            ]
          },
          "metadata": {},
          "output_type": "display_data"
        },
        {
          "data": {
            "image/png": "[encoded data removed]",
            "text/plain": [
              "<Figure size 1800x800 with 1 Axes>"
            ]
          },
          "metadata": {},
          "output_type": "display_data"
        }
      ],
      "source": [
        "plot_hist_diff(hdata, hdata_drop, hcols_with_na_temp)"
      ]
    },
    {
      "cell_type": "markdown",
      "metadata": {
        "id": "aNSWn3wT8XkC"
      },
      "source": [
        "## Кодирование категориальных признаков"
      ]
    },
    {
      "cell_type": "markdown",
      "metadata": {
        "id": "rwab-5O_8XkC"
      },
      "source": [
        "- Проведём кодирование категорилального признака preferred_device с использованием метода \"one-hot encoding\".\n",
        "- One-hot encoding предполагает, что значение категории заменяется на отдельную колонку, которая содержит бинарные значения.\n",
        "- Преимущества:\n",
        "    - Простота реализации.\n",
        "    - Подходит для любых моделей, так как НЕ создает фиктивное отношение порядка между значениями.\n",
        "- Недостатки:\n",
        "    - Расширяется признаковое пространство."
      ]
    },
    {
      "cell_type": "code",
      "execution_count": null,
      "metadata": {
        "id": "467byujr8XkC",
        "outputId": "41730d2e-e20a-4e5e-ce7e-8a474325539c"
      },
      "outputs": [
        {
          "data": {
            "text/html": [
              "<div>\n",
              "<style scoped>\n",
              "    .dataframe tbody tr th:only-of-type {\n",
              "        vertical-align: middle;\n",
              "    }\n",
              "\n",
              "    .dataframe tbody tr th {\n",
              "        vertical-align: top;\n",
              "    }\n",
              "\n",
              "    .dataframe thead th {\n",
              "        text-align: right;\n",
              "    }\n",
              "</style>\n",
              "<table border=\"1\" class=\"dataframe\">\n",
              "  <thead>\n",
              "    <tr style=\"text-align: right;\">\n",
              "      <th></th>\n",
              "      <th>preferred_device_ANDROID</th>\n",
              "      <th>preferred_device_Android</th>\n",
              "      <th>preferred_device_Android OS</th>\n",
              "      <th>preferred_device_Laptop</th>\n",
              "      <th>preferred_device_Mobile</th>\n",
              "      <th>preferred_device_Other</th>\n",
              "      <th>preferred_device_Others</th>\n",
              "      <th>preferred_device_Tab</th>\n",
              "      <th>preferred_device_iOS</th>\n",
              "      <th>preferred_device_iOS and Android</th>\n",
              "    </tr>\n",
              "  </thead>\n",
              "  <tbody>\n",
              "    <tr>\n",
              "      <th>0</th>\n",
              "      <td>False</td>\n",
              "      <td>False</td>\n",
              "      <td>False</td>\n",
              "      <td>False</td>\n",
              "      <td>False</td>\n",
              "      <td>False</td>\n",
              "      <td>False</td>\n",
              "      <td>False</td>\n",
              "      <td>False</td>\n",
              "      <td>True</td>\n",
              "    </tr>\n",
              "    <tr>\n",
              "      <th>1</th>\n",
              "      <td>False</td>\n",
              "      <td>False</td>\n",
              "      <td>False</td>\n",
              "      <td>False</td>\n",
              "      <td>False</td>\n",
              "      <td>False</td>\n",
              "      <td>False</td>\n",
              "      <td>False</td>\n",
              "      <td>True</td>\n",
              "      <td>False</td>\n",
              "    </tr>\n",
              "    <tr>\n",
              "      <th>2</th>\n",
              "      <td>False</td>\n",
              "      <td>False</td>\n",
              "      <td>False</td>\n",
              "      <td>False</td>\n",
              "      <td>False</td>\n",
              "      <td>False</td>\n",
              "      <td>False</td>\n",
              "      <td>False</td>\n",
              "      <td>False</td>\n",
              "      <td>True</td>\n",
              "    </tr>\n",
              "    <tr>\n",
              "      <th>3</th>\n",
              "      <td>False</td>\n",
              "      <td>False</td>\n",
              "      <td>False</td>\n",
              "      <td>False</td>\n",
              "      <td>False</td>\n",
              "      <td>False</td>\n",
              "      <td>False</td>\n",
              "      <td>False</td>\n",
              "      <td>True</td>\n",
              "      <td>False</td>\n",
              "    </tr>\n",
              "    <tr>\n",
              "      <th>4</th>\n",
              "      <td>False</td>\n",
              "      <td>False</td>\n",
              "      <td>False</td>\n",
              "      <td>False</td>\n",
              "      <td>False</td>\n",
              "      <td>False</td>\n",
              "      <td>False</td>\n",
              "      <td>False</td>\n",
              "      <td>False</td>\n",
              "      <td>True</td>\n",
              "    </tr>\n",
              "  </tbody>\n",
              "</table>\n",
              "</div>"
            ],
            "text/plain": [
              "   preferred_device_ANDROID  preferred_device_Android  \\\n",
              "0                     False                     False   \n",
              "1                     False                     False   \n",
              "2                     False                     False   \n",
              "3                     False                     False   \n",
              "4                     False                     False   \n",
              "\n",
              "   preferred_device_Android OS  preferred_device_Laptop  \\\n",
              "0                        False                    False   \n",
              "1                        False                    False   \n",
              "2                        False                    False   \n",
              "3                        False                    False   \n",
              "4                        False                    False   \n",
              "\n",
              "   preferred_device_Mobile  preferred_device_Other  preferred_device_Others  \\\n",
              "0                    False                   False                    False   \n",
              "1                    False                   False                    False   \n",
              "2                    False                   False                    False   \n",
              "3                    False                   False                    False   \n",
              "4                    False                   False                    False   \n",
              "\n",
              "   preferred_device_Tab  preferred_device_iOS  \\\n",
              "0                 False                 False   \n",
              "1                 False                  True   \n",
              "2                 False                 False   \n",
              "3                 False                  True   \n",
              "4                 False                 False   \n",
              "\n",
              "   preferred_device_iOS and Android  \n",
              "0                              True  \n",
              "1                             False  \n",
              "2                              True  \n",
              "3                             False  \n",
              "4                              True  "
            ]
          },
          "execution_count": 6,
          "metadata": {},
          "output_type": "execute_result"
        }
      ],
      "source": [
        "pd.get_dummies(data[['preferred_device']]).head()"
      ]
    },
    {
      "cell_type": "code",
      "execution_count": null,
      "metadata": {
        "id": "-JvMdOGP8XkC",
        "outputId": "ee0169c4-21e5-4aec-a7eb-ef2e52a51281"
      },
      "outputs": [
        {
          "data": {
            "text/html": [
              "<div>\n",
              "<style scoped>\n",
              "    .dataframe tbody tr th:only-of-type {\n",
              "        vertical-align: middle;\n",
              "    }\n",
              "\n",
              "    .dataframe tbody tr th {\n",
              "        vertical-align: top;\n",
              "    }\n",
              "\n",
              "    .dataframe thead th {\n",
              "        text-align: right;\n",
              "    }\n",
              "</style>\n",
              "<table border=\"1\" class=\"dataframe\">\n",
              "  <thead>\n",
              "    <tr style=\"text-align: right;\">\n",
              "      <th></th>\n",
              "      <th>preferred_device_ANDROID</th>\n",
              "      <th>preferred_device_Android</th>\n",
              "      <th>preferred_device_Android OS</th>\n",
              "      <th>preferred_device_Laptop</th>\n",
              "      <th>preferred_device_Mobile</th>\n",
              "      <th>preferred_device_Other</th>\n",
              "      <th>preferred_device_Others</th>\n",
              "      <th>preferred_device_Tab</th>\n",
              "      <th>preferred_device_iOS</th>\n",
              "      <th>preferred_device_iOS and Android</th>\n",
              "      <th>preferred_device_nan</th>\n",
              "    </tr>\n",
              "  </thead>\n",
              "  <tbody>\n",
              "    <tr>\n",
              "      <th>0</th>\n",
              "      <td>False</td>\n",
              "      <td>False</td>\n",
              "      <td>False</td>\n",
              "      <td>False</td>\n",
              "      <td>False</td>\n",
              "      <td>False</td>\n",
              "      <td>False</td>\n",
              "      <td>False</td>\n",
              "      <td>False</td>\n",
              "      <td>True</td>\n",
              "      <td>False</td>\n",
              "    </tr>\n",
              "    <tr>\n",
              "      <th>1</th>\n",
              "      <td>False</td>\n",
              "      <td>False</td>\n",
              "      <td>False</td>\n",
              "      <td>False</td>\n",
              "      <td>False</td>\n",
              "      <td>False</td>\n",
              "      <td>False</td>\n",
              "      <td>False</td>\n",
              "      <td>True</td>\n",
              "      <td>False</td>\n",
              "      <td>False</td>\n",
              "    </tr>\n",
              "    <tr>\n",
              "      <th>2</th>\n",
              "      <td>False</td>\n",
              "      <td>False</td>\n",
              "      <td>False</td>\n",
              "      <td>False</td>\n",
              "      <td>False</td>\n",
              "      <td>False</td>\n",
              "      <td>False</td>\n",
              "      <td>False</td>\n",
              "      <td>False</td>\n",
              "      <td>True</td>\n",
              "      <td>False</td>\n",
              "    </tr>\n",
              "    <tr>\n",
              "      <th>3</th>\n",
              "      <td>False</td>\n",
              "      <td>False</td>\n",
              "      <td>False</td>\n",
              "      <td>False</td>\n",
              "      <td>False</td>\n",
              "      <td>False</td>\n",
              "      <td>False</td>\n",
              "      <td>False</td>\n",
              "      <td>True</td>\n",
              "      <td>False</td>\n",
              "      <td>False</td>\n",
              "    </tr>\n",
              "    <tr>\n",
              "      <th>4</th>\n",
              "      <td>False</td>\n",
              "      <td>False</td>\n",
              "      <td>False</td>\n",
              "      <td>False</td>\n",
              "      <td>False</td>\n",
              "      <td>False</td>\n",
              "      <td>False</td>\n",
              "      <td>False</td>\n",
              "      <td>False</td>\n",
              "      <td>True</td>\n",
              "      <td>False</td>\n",
              "    </tr>\n",
              "  </tbody>\n",
              "</table>\n",
              "</div>"
            ],
            "text/plain": [
              "   preferred_device_ANDROID  preferred_device_Android  \\\n",
              "0                     False                     False   \n",
              "1                     False                     False   \n",
              "2                     False                     False   \n",
              "3                     False                     False   \n",
              "4                     False                     False   \n",
              "\n",
              "   preferred_device_Android OS  preferred_device_Laptop  \\\n",
              "0                        False                    False   \n",
              "1                        False                    False   \n",
              "2                        False                    False   \n",
              "3                        False                    False   \n",
              "4                        False                    False   \n",
              "\n",
              "   preferred_device_Mobile  preferred_device_Other  preferred_device_Others  \\\n",
              "0                    False                   False                    False   \n",
              "1                    False                   False                    False   \n",
              "2                    False                   False                    False   \n",
              "3                    False                   False                    False   \n",
              "4                    False                   False                    False   \n",
              "\n",
              "   preferred_device_Tab  preferred_device_iOS  \\\n",
              "0                 False                 False   \n",
              "1                 False                  True   \n",
              "2                 False                 False   \n",
              "3                 False                  True   \n",
              "4                 False                 False   \n",
              "\n",
              "   preferred_device_iOS and Android  preferred_device_nan  \n",
              "0                              True                 False  \n",
              "1                             False                 False  \n",
              "2                              True                 False  \n",
              "3                             False                 False  \n",
              "4                              True                 False  "
            ]
          },
          "execution_count": 7,
          "metadata": {},
          "output_type": "execute_result"
        }
      ],
      "source": [
        "# Добавление отдельной колонки, признака пустых значений\n",
        "pd.get_dummies(data[['preferred_device']], dummy_na=True).head()"
      ]
    },
    {
      "cell_type": "markdown",
      "metadata": {
        "id": "a-PYJN5c8XkD"
      },
      "source": [
        "## Нормализация числовых признаков"
      ]
    },
    {
      "cell_type": "markdown",
      "metadata": {
        "id": "Xjs_GLaK8XkD"
      },
      "source": [
        "- Проведём нормализацию числовых признаков через использование межквартильного размаха\n",
        "- Межквартильный размах IQR (interquartile range, IQR) - это разность третьего квартиля и первого квартиля:"
      ]
    },
    {
      "cell_type": "code",
      "execution_count": null,
      "metadata": {
        "id": "ZRVp_QHk8XkD"
      },
      "outputs": [],
      "source": [
        "def remove_outliers_iqr(data, column):\n",
        "    Q1 = data[column].quantile(0.25)\n",
        "    Q3 = data[column].quantile(0.75)\n",
        "    IQR = Q3 - Q1\n",
        "    lower_bound = Q1 - 1.5 * IQR\n",
        "    upper_bound = Q3 + 1.5 * IQR\n",
        "    filtered_data = data[(data[column] >= lower_bound) & (data[column] <= upper_bound)]\n",
        "    return filtered_data"
      ]
    },
    {
      "cell_type": "code",
      "execution_count": null,
      "metadata": {
        "id": "wTVwT3oP8XkD",
        "outputId": "5b44a707-6b5f-4f7d-c18c-8d4a96fb1b9c"
      },
      "outputs": [
        {
          "data": {
            "text/plain": [
              "(11770, 5)"
            ]
          },
          "execution_count": 9,
          "metadata": {},
          "output_type": "execute_result"
        }
      ],
      "source": [
        "data.shape"
      ]
    },
    {
      "cell_type": "code",
      "execution_count": null,
      "metadata": {
        "id": "CAx92YPG8XkD",
        "outputId": "9472076a-d206-4152-e8c6-9f99a43d14ba"
      },
      "outputs": [
        {
          "data": {
            "text/plain": [
              "(11168, 5)"
            ]
          },
          "execution_count": 10,
          "metadata": {},
          "output_type": "execute_result"
        }
      ],
      "source": [
        "filtered_dataset = remove_outliers_iqr(data, 'Yearly_avg_view_on_travel_page')\n",
        "filtered_dataset.shape"
      ]
    }
  ],
  "metadata": {
    "kernelspec": {
      "display_name": "venv",
      "language": "python",
      "name": "python3"
    },
    "language_info": {
      "codemirror_mode": {
        "name": "ipython",
        "version": 3
      },
      "file_extension": ".py",
      "mimetype": "text/x-python",
      "name": "python",
      "nbconvert_exporter": "python",
      "pygments_lexer": "ipython3",
      "version": "3.12.3"
    },
    "colab": {
      "provenance": []
    }
  },
  "nbformat": 4,
  "nbformat_minor": 0
}